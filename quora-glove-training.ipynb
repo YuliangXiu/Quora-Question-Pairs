{
 "cells": [
  {
   "cell_type": "markdown",
   "metadata": {},
   "source": [
    "# Quora question pairs: training"
   ]
  },
  {
   "cell_type": "markdown",
   "metadata": {},
   "source": [
    "## Import packages"
   ]
  },
  {
   "cell_type": "code",
   "execution_count": 11,
   "metadata": {},
   "outputs": [],
   "source": [
    "%matplotlib inline\n",
    "from __future__ import print_function\n",
    "import numpy as np\n",
    "import pandas as pd\n",
    "import datetime, time, json\n",
    "import os\n",
    "from keras.models import Sequential\n",
    "from keras.layers import Embedding, Dense, Dropout, Reshape, Merge, BatchNormalization, TimeDistributed, Lambda, LSTM, Bidirectional \n",
    "from keras.regularizers import l2\n",
    "from keras.callbacks import Callback, ModelCheckpoint\n",
    "from keras import backend as K\n",
    "from sklearn.model_selection import train_test_split"
   ]
  },
  {
   "cell_type": "markdown",
   "metadata": {},
   "source": [
    "## Initialize global variables"
   ]
  },
  {
   "cell_type": "code",
   "execution_count": 12,
   "metadata": {
    "collapsed": true
   },
   "outputs": [],
   "source": [
    "Q1_TRAINING_DATA_FILE = 'q1_train-quora-glove.npy'\n",
    "Q2_TRAINING_DATA_FILE = 'q2_train-quora-glove.npy'\n",
    "Q1_TEST_DATA_FILE = 'q1_test-quora-glove.npy'\n",
    "Q2_TEST_DATA_FILE = 'q2_test-quora-glove.npy'\n",
    "LABEL_TRAINING_DATA_FILE = 'label_train-quora-glove.npy'\n",
    "WORD_EMBEDDING_MATRIX_FILE = 'word_embedding_matrix-quora-glove.npy'\n",
    "NB_WORDS_DATA_FILE = 'nb_words-quora-glove.json'\n",
    "MODEL_WEIGHTS_FILE = 'question_pairs_weights-quora-glove.h5'\n",
    "MAX_SEQUENCE_LENGTH = 25\n",
    "EMBEDDING_DIM = 200\n",
    "VALIDATION_SPLIT = 0.1\n",
    "TEST_SPLIT = 0.1\n",
    "RNG_SEED = 13371447\n",
    "NB_EPOCHS = 25"
   ]
  },
  {
   "cell_type": "markdown",
   "metadata": {},
   "source": [
    "## Load the dataset, embedding matrix and word count"
   ]
  },
  {
   "cell_type": "code",
   "execution_count": 13,
   "metadata": {
    "collapsed": true
   },
   "outputs": [],
   "source": [
    "q1_data = np.load(open(Q1_TRAINING_DATA_FILE, 'rb'))\n",
    "q2_data = np.load(open(Q2_TRAINING_DATA_FILE, 'rb'))\n",
    "q1_test = np.load(open(Q1_TEST_DATA_FILE, 'rb'))\n",
    "q2_test = np.load(open(Q2_TEST_DATA_FILE, 'rb'))\n",
    "\n",
    "labels = np.load(open(LABEL_TRAINING_DATA_FILE, 'rb'))\n",
    "word_embedding_matrix = np.load(open(WORD_EMBEDDING_MATRIX_FILE, 'rb'))\n",
    "with open(NB_WORDS_DATA_FILE, 'r') as f:\n",
    "    nb_words = json.load(f)['nb_words']"
   ]
  },
  {
   "cell_type": "markdown",
   "metadata": {},
   "source": [
    "## Partition the dataset into train and test sets"
   ]
  },
  {
   "cell_type": "code",
   "execution_count": 16,
   "metadata": {},
   "outputs": [],
   "source": [
    "X_train = np.stack((q1_data, q2_data), axis=1)\n",
    "y = labels\n",
    "\n",
    "X_train, X_valid, y_train, y_valid = train_test_split(X_train, y, test_size=TEST_SPLIT, random_state=RNG_SEED)\n",
    "\n",
    "Q1_train = X_train[:,0]\n",
    "Q2_train = X_train[:,1]\n",
    "\n",
    "Q1_valid = X_valid[:,0]\n",
    "Q2_valid = X_valid[:,1]\n",
    "\n",
    "X_test = np.stack((q1_test, q2_test), axis=1)\n",
    "Q1_test = X_test[:,0]\n",
    "Q2_test = X_test[:,1]\n",
    "\n",
    "re_weight = True\n",
    "weight_val = np.ones(len(y_valid))\n",
    "if re_weight:\n",
    "    weight_val *= 0.472001959\n",
    "    weight_val[y_valid==0] = 1.309028344\n",
    "    class_weight = {0: 1.309028344, 1: 0.472001959}"
   ]
  },
  {
   "cell_type": "markdown",
   "metadata": {},
   "source": [
    "## Define the model"
   ]
  },
  {
   "cell_type": "code",
   "execution_count": 34,
   "metadata": {},
   "outputs": [
    {
     "name": "stderr",
     "output_type": "stream",
     "text": [
      "/usr/local/lib/python2.7/dist-packages/ipykernel_launcher.py:24: UserWarning: The `Merge` layer is deprecated and will be removed after 08/2017. Use instead layers from `keras.layers.merge`, e.g. `add`, `concatenate`, etc.\n"
     ]
    }
   ],
   "source": [
    "os.environ[\"CUDA_VISIBLE_DEVICES\"]=\"0\"\n",
    "\n",
    "Q1 = Sequential()\n",
    "Q1.add(Embedding(nb_words + 1, \n",
    "                 EMBEDDING_DIM, #300\n",
    "                 weights=[word_embedding_matrix], \n",
    "                 input_length=MAX_SEQUENCE_LENGTH, #25 \n",
    "                 trainable=False))\n",
    "Q1.add(Bidirectional(LSTM(200,input_shape=(MAX_SEQUENCE_LENGTH,EMBEDDING_DIM),return_sequences=True,dropout=0.2,recurrent_dropout=0.2)))\n",
    "Q1.add(TimeDistributed(Dense(EMBEDDING_DIM, activation='relu')))\n",
    "Q1.add(Lambda(lambda x: K.max(x, axis=1), output_shape=(EMBEDDING_DIM, )))\n",
    "\n",
    "Q2 = Sequential()\n",
    "Q2.add(Embedding(nb_words + 1, \n",
    "                 EMBEDDING_DIM, \n",
    "                 weights=[word_embedding_matrix], \n",
    "                 input_length=MAX_SEQUENCE_LENGTH, \n",
    "                 trainable=False))\n",
    "Q2.add(Bidirectional(LSTM(200,input_shape=(MAX_SEQUENCE_LENGTH,EMBEDDING_DIM),return_sequences=True,dropout=0.2,recurrent_dropout=0.2)))\n",
    "Q2.add(TimeDistributed(Dense(EMBEDDING_DIM, activation='relu')))\n",
    "Q2.add(Lambda(lambda x: K.max(x, axis=1), output_shape=(EMBEDDING_DIM, )))\n",
    "\n",
    "model = Sequential()\n",
    "model.add(Merge([Q1, Q2], mode='concat'))\n",
    "model.add(BatchNormalization())\n",
    "model.add(Dropout(0.2))\n",
    "model.add(Dense(200, activation='relu'))\n",
    "model.add(BatchNormalization())\n",
    "model.add(Dropout(0.2))\n",
    "model.add(Dense(200, activation='relu'))\n",
    "model.add(BatchNormalization())\n",
    "model.add(Dropout(0.2))\n",
    "model.add(Dense(1, activation='sigmoid'))\n",
    "\n",
    "model.load_weights(MODEL_WEIGHTS_FILE)\n",
    "model.compile(loss='binary_crossentropy', \n",
    "              optimizer='nadam', \n",
    "              metrics=['acc'])"
   ]
  },
  {
   "cell_type": "markdown",
   "metadata": {},
   "source": [
    "## Train the model, checkpointing weights with best validation accuracy"
   ]
  },
  {
   "cell_type": "code",
   "execution_count": 37,
   "metadata": {},
   "outputs": [
    {
     "name": "stdout",
     "output_type": "stream",
     "text": [
      "Starting training at 2017-05-21 15:59:08.493851\n",
      "Train on 363861 samples, validate on 40429 samples\n",
      "Epoch 1/100\n",
      "363861/363861 [==============================] - 137s - loss: 0.2284 - acc: 0.8351 - val_loss: 0.2855 - val_acc: 0.8217\n",
      "Epoch 2/100\n",
      "363861/363861 [==============================] - 133s - loss: 0.2228 - acc: 0.8401 - val_loss: 0.2921 - val_acc: 0.8246\n",
      "Epoch 3/100\n",
      "363861/363861 [==============================] - 135s - loss: 0.2175 - acc: 0.8452 - val_loss: 0.2743 - val_acc: 0.8143\n",
      "Epoch 4/100\n",
      "363861/363861 [==============================] - 123s - loss: 0.2116 - acc: 0.8503 - val_loss: 0.2859 - val_acc: 0.8195\n",
      "Epoch 5/100\n",
      "363861/363861 [==============================] - 120s - loss: 0.2057 - acc: 0.8563 - val_loss: 0.2824 - val_acc: 0.8249\n",
      "Epoch 6/100\n",
      "363861/363861 [==============================] - 120s - loss: 0.2012 - acc: 0.8603 - val_loss: 0.2915 - val_acc: 0.8278\n",
      "Epoch 7/100\n",
      "363861/363861 [==============================] - 120s - loss: 0.1962 - acc: 0.8634 - val_loss: 0.2983 - val_acc: 0.8292\n",
      "Training ended at 2017-05-21 16:14:06.584287\n",
      "Minutes elapsed: 14.968164\n"
     ]
    }
   ],
   "source": [
    "from keras.callbacks import EarlyStopping, ModelCheckpoint\n",
    "\n",
    "print(\"Starting training at\", datetime.datetime.now())\n",
    "t0 = time.time()\n",
    "\n",
    "early_stopping =EarlyStopping(monitor='val_loss', patience=3)\n",
    "model_checkpoint = ModelCheckpoint(MODEL_WEIGHTS_FILE, monitor='val_loss',save_best_only=True, save_weights_only=True)\n",
    "\n",
    "# callbacks = [ModelCheckpoint(MODEL_WEIGHTS_FILE, monitor='val_loss', save_best_only=True)]\n",
    "model.load_weights(MODEL_WEIGHTS_FILE)\n",
    "\n",
    "history = model.fit([Q1_train, Q2_train],\n",
    "                    y_train,\n",
    "                    nb_epoch=100,\n",
    "                    validation_data = ([Q1_valid,Q2_valid], y_valid, weight_val),\n",
    "                    batch_size=2048, \n",
    "                    shuffle=True, \n",
    "                    class_weight=class_weight,\n",
    "                    callbacks=[early_stopping, model_checkpoint])\n",
    "\n",
    "\n",
    "t1 = time.time()\n",
    "print(\"Training ended at\", datetime.datetime.now())\n",
    "print(\"Minutes elapsed: %f\" % ((t1 - t0) / 60.))"
   ]
  },
  {
   "cell_type": "markdown",
   "metadata": {},
   "source": [
    "## Plot training and validation accuracy"
   ]
  },
  {
   "cell_type": "code",
   "execution_count": 31,
   "metadata": {},
   "outputs": [
    {
     "data": {
      "image/png": "[encoded data removed]",
      "text/plain": [
       "<matplotlib.figure.Figure at 0x7f5349e72c10>"
      ]
     },
     "metadata": {},
     "output_type": "display_data"
    }
   ],
   "source": [
    "acc = pd.DataFrame({'epoch': [ i + 1 for i in history.epoch ],\n",
    "                    'training': history.history['acc'],\n",
    "                    'validation': history.history['val_acc'],\n",
    "                    'loss': history.history['loss'],\n",
    "                   'val_loss': history.history['val_loss']})\n",
    "ax = acc.ix[:,:].plot(x='epoch', figsize={5,8}, grid=True)\n",
    "ax.set_ylabel(\"accuracy\")\n",
    "ax.set_ylim([0.0,1.0]);"
   ]
  },
  {
   "cell_type": "markdown",
   "metadata": {},
   "source": [
    "## Print best validation accuracy and epoch"
   ]
  },
  {
   "cell_type": "code",
   "execution_count": 9,
   "metadata": {},
   "outputs": [
    {
     "name": "stdout",
     "output_type": "stream",
     "text": [
      "Maximum accuracy at epoch 10 = 0.8369\n"
     ]
    }
   ],
   "source": [
    "max_val_acc, idx = max((val, idx) for (idx, val) in enumerate(history.history['val_binary_accuracy']))\n",
    "print('Maximum accuracy at epoch', '{:d}'.format(idx+1), '=', '{:.4f}'.format(max_val_acc))"
   ]
  },
  {
   "cell_type": "markdown",
   "metadata": {},
   "source": [
    "## Evaluate the model with best validation accuracy on the test partition"
   ]
  },
  {
   "cell_type": "code",
   "execution_count": 38,
   "metadata": {},
   "outputs": [
    {
     "name": "stdout",
     "output_type": "stream",
     "text": [
      "2345796/2345796 [==============================] - 165s   \n"
     ]
    }
   ],
   "source": [
    "model.load_weights(MODEL_WEIGHTS_FILE)\n",
    "\n",
    "results = model.predict([Q1_test,Q2_test],batch_size=4096, verbose=1)\n",
    "submission = pd.DataFrame(results,columns=['is_duplicate'])\n",
    "submission.to_csv('submission_quora_lstm.csv',index_label='test_id')"
   ]
  },
  {
   "cell_type": "code",
   "execution_count": null,
   "metadata": {
    "collapsed": true
   },
   "outputs": [],
   "source": []
  }
 ],
 "metadata": {
  "hide_input": false,
  "kernelspec": {
   "display_name": "Python 3",
   "language": "python",
   "name": "python3"
  },
  "language_info": {
   "codemirror_mode": {
    "name": "ipython",
    "version": 2
   },
   "file_extension": ".py",
   "mimetype": "text/x-python",
   "name": "python",
   "nbconvert_exporter": "python",
   "pygments_lexer": "ipython2",
   "version": "2.7.6"
  }
 },
 "nbformat": 4,
 "nbformat_minor": 2
}
