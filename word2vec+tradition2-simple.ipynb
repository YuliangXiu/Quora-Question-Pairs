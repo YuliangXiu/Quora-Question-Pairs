{
 "cells": [
  {
   "cell_type": "code",
   "execution_count": 1,
   "metadata": {},
   "outputs": [
    {
     "name": "stderr",
     "output_type": "stream",
     "text": [
      "Using TensorFlow backend.\n",
      "/usr/local/lib/python2.7/dist-packages/scikit_learn-0.18.1-py2.7-linux-x86_64.egg/sklearn/cross_validation.py:44: DeprecationWarning: This module was deprecated in version 0.18 in favor of the model_selection module into which all the refactored classes and functions are moved. Also note that the interface of the new CV iterators are different from that of this module. This module will be removed in 0.20.\n",
      "  \"This module will be removed in 0.20.\", DeprecationWarning)\n",
      "/usr/local/lib/python2.7/dist-packages/fuzzywuzzy/fuzz.py:35: UserWarning: Using slow pure-python SequenceMatcher. Install python-Levenshtein to remove this warning\n",
      "  warnings.warn('Using slow pure-python SequenceMatcher. Install python-Levenshtein to remove this warning')\n"
     ]
    }
   ],
   "source": [
    "########################################\n",
    "## import packages\n",
    "########################################\n",
    "%matplotlib inline\n",
    "import os\n",
    "import re\n",
    "import csv\n",
    "import codecs\n",
    "import numpy as np\n",
    "import pandas as pd\n",
    "\n",
    "from nltk.corpus import stopwords\n",
    "from nltk.stem import SnowballStemmer\n",
    "from nltk import word_tokenize\n",
    "from string import punctuation\n",
    "\n",
    "from gensim.models import KeyedVectors\n",
    "from keras.preprocessing.text import Tokenizer\n",
    "from keras.preprocessing.sequence import pad_sequences\n",
    "from keras.layers import Dense, Input, LSTM, Embedding, Dropout, Activation,  Bidirectional\n",
    "from keras.layers.merge import concatenate\n",
    "from keras.models import Model\n",
    "from keras.layers.normalization import BatchNormalization\n",
    "from keras.callbacks import EarlyStopping, ModelCheckpoint\n",
    "\n",
    "\n",
    "import gc\n",
    "import seaborn as sns\n",
    "from snownlp import SnowNLP\n",
    "from collections import Counter\n",
    "from sklearn.cross_validation import train_test_split\n",
    "from sklearn.metrics import roc_auc_score\n",
    "\n",
    "\n",
    "import cPickle\n",
    "import gensim\n",
    "import math\n",
    "from fuzzywuzzy import fuzz\n",
    "from tqdm import tqdm\n",
    "from scipy.stats import skew, kurtosis\n",
    "from scipy.spatial.distance import cosine, cityblock, jaccard, canberra, euclidean, minkowski, braycurtis\n",
    "\n",
    "\n",
    "import sys\n",
    "stdout = sys.stdout\n",
    "reload(sys)\n",
    "sys.setdefaultencoding('utf-8')\n",
    "sys.stdout = stdout"
   ]
  },
  {
   "cell_type": "code",
   "execution_count": 2,
   "metadata": {
    "collapsed": true
   },
   "outputs": [],
   "source": [
    "########################################\n",
    "## set directories and parameters\n",
    "########################################\n",
    "BASE_DIR = 'data/'\n",
    "EMBEDDING_FILE = BASE_DIR + 'GoogleNews-vectors-negative300.bin'\n",
    "TRAIN_DATA_FILE = BASE_DIR + 'cor_train.csv'\n",
    "TEST_DATA_FILE = BASE_DIR + 'cor_test.csv'\n",
    "MAX_SEQUENCE_LENGTH = 30\n",
    "MAX_NB_WORDS = 200000\n",
    "EMBEDDING_DIM = 300\n",
    "VALIDATION_SPLIT = 0.02\n",
    "\n",
    "num_lstm = np.random.randint(175, 275)\n",
    "num_dense = np.random.randint(100, 150)\n",
    "rate_drop_lstm = 0.15 + np.random.rand() * 0.25\n",
    "rate_drop_dense = 0.15 + np.random.rand() * 0.25\n",
    "\n",
    "act = 'relu'\n",
    "re_weight = True # whether to re-weight classes to fit the 17.5% share in test set\n",
    "\n",
    "STAMP = 'lstm_%d_%d_%.2f_%.2f'%(num_lstm, num_dense, rate_drop_lstm, \\\n",
    "        rate_drop_dense)"
   ]
  },
  {
   "cell_type": "code",
   "execution_count": 3,
   "metadata": {
    "collapsed": true
   },
   "outputs": [],
   "source": [
    "data_1 = np.loadtxt(\"data/data_1.csv\", delimiter=\",\")\n",
    "data_2 = np.loadtxt(\"data/data_2.csv\", delimiter=\",\")\n",
    "test_data_1 = np.loadtxt(\"data/test_data_1.csv\", delimiter=\",\")\n",
    "test_data_2 = np.loadtxt(\"data/test_data_2.csv\", delimiter=\",\")\n",
    "labels = np.loadtxt(\"data/labels.csv\", delimiter=\",\")\n",
    "embedding_matrix = np.load('data/embedding_matrix.npy')\n",
    "nb_words = 120501"
   ]
  },
  {
   "cell_type": "code",
   "execution_count": 4,
   "metadata": {
    "collapsed": true
   },
   "outputs": [],
   "source": [
    "x_train = pd.read_pickle('data/x_train_norm.pkl')\n",
    "x_test = pd.read_pickle('data/x_test_norm.pkl')"
   ]
  },
  {
   "cell_type": "code",
   "execution_count": 5,
   "metadata": {
    "collapsed": true
   },
   "outputs": [],
   "source": [
    "########################################\n",
    "## sample train/validation data\n",
    "########################################\n",
    "\n",
    "np.random.seed(1234)\n",
    "perm = np.random.permutation(len(data_1))\n",
    "idx_train = perm[:int(len(data_1)*(1-VALIDATION_SPLIT))]\n",
    "idx_val = perm[int(len(data_1)*(1-VALIDATION_SPLIT)):]\n",
    "\n",
    "data_1_train = np.vstack((data_1[idx_train], data_2[idx_train]))\n",
    "data_2_train = np.vstack((data_2[idx_train], data_1[idx_train]))\n",
    "\n",
    "data_1_val = np.vstack((data_1[idx_val], data_2[idx_val]))\n",
    "data_2_val = np.vstack((data_2[idx_val], data_1[idx_val]))\n",
    "\n",
    "data_3_train = np.vstack((x_train.values[idx_train],x_train.values[idx_train]))\n",
    "data_3_val = np.vstack((x_train.values[idx_val],x_train.values[idx_val]))\n",
    "\n",
    "labels_train = np.concatenate((labels[idx_train], labels[idx_train]))\n",
    "labels_val = np.concatenate((labels[idx_val], labels[idx_val]))\n",
    "\n",
    "\n",
    "weight_val = np.ones(len(labels_val))\n",
    "\n",
    "if re_weight:\n",
    "    weight_val *= 0.472001959\n",
    "    weight_val[labels_val==0] = 1.309028344\n",
    "    class_weight = {0: 1.309028344, 1: 0.472001959}\n",
    "    "
   ]
  },
  {
   "cell_type": "code",
   "execution_count": 13,
   "metadata": {
    "collapsed": true
   },
   "outputs": [],
   "source": [
    "num_lstm = 250\n",
    "num_dense = 250\n",
    "rate_drop_lstm = 0.6\n",
    "rate_drop_dense = 0.5\n",
    "\n",
    "STAMP = 'lstm_%d_%d_%.2f_%.2f'%(num_lstm, num_dense, rate_drop_lstm, \\\n",
    "        rate_drop_dense)"
   ]
  },
  {
   "cell_type": "code",
   "execution_count": 14,
   "metadata": {
    "collapsed": true
   },
   "outputs": [],
   "source": [
    "########################################\n",
    "## define the model structure\n",
    "########################################\n",
    "os.environ[\"CUDA_VISIBLE_DEVICES\"]=\"5\"\n",
    "\n",
    "embedding_layer = Embedding(nb_words,\n",
    "        EMBEDDING_DIM,\n",
    "        weights=[embedding_matrix],\n",
    "        input_length=MAX_SEQUENCE_LENGTH,\n",
    "        trainable=False)\n",
    "lstm_layer =  Bidirectional(LSTM(num_lstm, dropout=rate_drop_lstm, recurrent_dropout=rate_drop_lstm))\n",
    "\n",
    "sequence_1_input = Input(shape=(MAX_SEQUENCE_LENGTH,), dtype='int32')\n",
    "embedded_sequences_1 = embedding_layer(sequence_1_input)\n",
    "x1 = lstm_layer(embedded_sequences_1)\n",
    "\n",
    "sequence_2_input = Input(shape=(MAX_SEQUENCE_LENGTH,), dtype='int32')\n",
    "embedded_sequences_2 = embedding_layer(sequence_2_input)\n",
    "y1 = lstm_layer(embedded_sequences_2)\n",
    "\n",
    "z1 = Input(shape=(x_train.shape[1],), dtype='float32')\n",
    "z1_dense = Dense(num_dense/2, activation=act)(z1)\n",
    "\n",
    "merged = concatenate([x1, y1, z1_dense])\n",
    "merged = BatchNormalization()(merged)\n",
    "merged = Dropout(rate_drop_dense)(merged)\n",
    "\n",
    "merged = Dense(num_dense, activation=act)(merged)\n",
    "merged = BatchNormalization()(merged)\n",
    "merged = Dropout(rate_drop_dense)(merged)\n",
    "\n",
    "preds = Dense(1, activation='sigmoid')(merged)"
   ]
  },
  {
   "cell_type": "code",
   "execution_count": 15,
   "metadata": {},
   "outputs": [
    {
     "name": "stdout",
     "output_type": "stream",
     "text": [
      "lstm_250_250_0.60_0.50\n",
      "Train on 792408 samples, validate on 16172 samples\n",
      "Epoch 1/200\n",
      "792408/792408 [==============================] - 245s - loss: 0.2603 - acc: 0.8162 - val_loss: 0.2132 - val_acc: 0.8209\n",
      "Epoch 2/200\n",
      "792408/792408 [==============================] - 243s - loss: 0.2096 - acc: 0.8444 - val_loss: 0.2042 - val_acc: 0.8382\n",
      "Epoch 3/200\n",
      "792408/792408 [==============================] - 242s - loss: 0.2014 - acc: 0.8506 - val_loss: 0.1931 - val_acc: 0.8541\n",
      "Epoch 4/200\n",
      "792408/792408 [==============================] - 242s - loss: 0.1954 - acc: 0.8554 - val_loss: 0.1897 - val_acc: 0.8691\n",
      "Epoch 5/200\n",
      "792408/792408 [==============================] - 243s - loss: 0.1908 - acc: 0.8596 - val_loss: 0.1856 - val_acc: 0.8655\n",
      "Epoch 6/200\n",
      "792408/792408 [==============================] - 244s - loss: 0.1874 - acc: 0.8622 - val_loss: 0.1837 - val_acc: 0.8632\n",
      "Epoch 7/200\n",
      "792408/792408 [==============================] - 244s - loss: 0.1844 - acc: 0.8644 - val_loss: 0.1811 - val_acc: 0.8727\n",
      "Epoch 8/200\n",
      "792408/792408 [==============================] - 244s - loss: 0.1819 - acc: 0.8663 - val_loss: 0.1795 - val_acc: 0.8655\n",
      "Epoch 9/200\n",
      "792408/792408 [==============================] - 244s - loss: 0.1798 - acc: 0.8680 - val_loss: 0.1778 - val_acc: 0.8711\n",
      "Epoch 10/200\n",
      "792408/792408 [==============================] - 244s - loss: 0.1775 - acc: 0.8697 - val_loss: 0.1774 - val_acc: 0.8705\n",
      "Epoch 11/200\n",
      "792408/792408 [==============================] - 244s - loss: 0.1759 - acc: 0.8704 - val_loss: 0.1827 - val_acc: 0.8852\n",
      "Epoch 12/200\n",
      "792408/792408 [==============================] - 244s - loss: 0.1746 - acc: 0.8718 - val_loss: 0.1763 - val_acc: 0.8734\n",
      "Epoch 13/200\n",
      "792408/792408 [==============================] - 244s - loss: 0.1731 - acc: 0.8732 - val_loss: 0.1745 - val_acc: 0.8771\n",
      "Epoch 14/200\n",
      "792408/792408 [==============================] - 244s - loss: 0.1718 - acc: 0.8740 - val_loss: 0.1735 - val_acc: 0.8760\n",
      "Epoch 15/200\n",
      "792408/792408 [==============================] - 244s - loss: 0.1707 - acc: 0.8745 - val_loss: 0.1725 - val_acc: 0.8745\n",
      "Epoch 16/200\n",
      "792408/792408 [==============================] - 245s - loss: 0.1694 - acc: 0.8760 - val_loss: 0.1719 - val_acc: 0.8791\n",
      "Epoch 17/200\n",
      "792408/792408 [==============================] - 244s - loss: 0.1688 - acc: 0.8759 - val_loss: 0.1721 - val_acc: 0.8785\n",
      "Epoch 18/200\n",
      "792408/792408 [==============================] - 247s - loss: 0.1673 - acc: 0.8772 - val_loss: 0.1717 - val_acc: 0.8817\n",
      "Epoch 19/200\n",
      "792408/792408 [==============================] - 248s - loss: 0.1666 - acc: 0.8776 - val_loss: 0.1719 - val_acc: 0.8828\n",
      "Epoch 20/200\n",
      "792408/792408 [==============================] - 247s - loss: 0.1660 - acc: 0.8781 - val_loss: 0.1699 - val_acc: 0.8802\n",
      "Epoch 21/200\n",
      "792408/792408 [==============================] - 247s - loss: 0.1650 - acc: 0.8790 - val_loss: 0.1688 - val_acc: 0.8769\n",
      "Epoch 22/200\n",
      "792408/792408 [==============================] - 246s - loss: 0.1645 - acc: 0.8791 - val_loss: 0.1697 - val_acc: 0.8813\n",
      "Epoch 23/200\n",
      "792408/792408 [==============================] - 247s - loss: 0.1637 - acc: 0.8800 - val_loss: 0.1688 - val_acc: 0.8839\n",
      "Epoch 24/200\n",
      "792408/792408 [==============================] - 247s - loss: 0.1632 - acc: 0.8801 - val_loss: 0.1689 - val_acc: 0.8845\n",
      "Epoch 25/200\n",
      "792408/792408 [==============================] - 248s - loss: 0.1625 - acc: 0.8804 - val_loss: 0.1681 - val_acc: 0.8797\n",
      "Epoch 26/200\n",
      "792408/792408 [==============================] - 249s - loss: 0.1622 - acc: 0.8810 - val_loss: 0.1691 - val_acc: 0.8806\n",
      "Epoch 27/200\n",
      "792408/792408 [==============================] - 249s - loss: 0.1619 - acc: 0.8808 - val_loss: 0.1684 - val_acc: 0.8842\n",
      "Epoch 28/200\n",
      "792408/792408 [==============================] - 249s - loss: 0.1613 - acc: 0.8816 - val_loss: 0.1686 - val_acc: 0.8847\n",
      "Epoch 29/200\n",
      "792408/792408 [==============================] - 250s - loss: 0.1609 - acc: 0.8819 - val_loss: 0.1673 - val_acc: 0.8826\n",
      "Epoch 30/200\n",
      "792408/792408 [==============================] - 248s - loss: 0.1602 - acc: 0.8826 - val_loss: 0.1664 - val_acc: 0.8820\n",
      "Epoch 31/200\n",
      "792408/792408 [==============================] - 248s - loss: 0.1598 - acc: 0.8826 - val_loss: 0.1685 - val_acc: 0.8867\n",
      "Epoch 32/200\n",
      "792408/792408 [==============================] - 249s - loss: 0.1589 - acc: 0.8836 - val_loss: 0.1664 - val_acc: 0.8837\n",
      "Epoch 33/200\n",
      "792408/792408 [==============================] - 249s - loss: 0.1588 - acc: 0.8835 - val_loss: 0.1663 - val_acc: 0.8800\n",
      "Epoch 34/200\n",
      "792408/792408 [==============================] - 249s - loss: 0.1584 - acc: 0.8839 - val_loss: 0.1689 - val_acc: 0.8866\n",
      "Epoch 35/200\n",
      "792408/792408 [==============================] - 248s - loss: 0.1578 - acc: 0.8845 - val_loss: 0.1677 - val_acc: 0.8894\n",
      "Epoch 36/200\n",
      "792408/792408 [==============================] - 248s - loss: 0.1581 - acc: 0.8846 - val_loss: 0.1664 - val_acc: 0.8794\n",
      "Epoch 37/200\n",
      "792408/792408 [==============================] - 248s - loss: 0.1576 - acc: 0.8846 - val_loss: 0.1668 - val_acc: 0.8855\n"
     ]
    }
   ],
   "source": [
    "########################################\n",
    "## train the model\n",
    "########################################\n",
    "model = Model(inputs=[sequence_1_input, sequence_2_input, z1], \\\n",
    "        outputs=preds)\n",
    "# model.load_weights(bst_model_path)\n",
    "model.compile(loss='binary_crossentropy',\n",
    "        optimizer='nadam',\n",
    "        metrics=['acc'])\n",
    "#model.summary()\n",
    "print(STAMP)\n",
    "\n",
    "early_stopping =EarlyStopping(monitor='val_loss', patience=3)\n",
    "bst_model_path = STAMP + '.h5'\n",
    "\n",
    "model_checkpoint = ModelCheckpoint(bst_model_path, monitor='val_loss',save_best_only=True, save_weights_only=True)\n",
    "# model.load_weights(bst_model_path)\n",
    "hist = model.fit([data_1_train, data_2_train, data_3_train], labels_train, \\\n",
    "        validation_data=([data_1_val, data_2_val, data_3_val], labels_val, weight_val), \\\n",
    "        epochs=200, batch_size=2048, shuffle=True, \\\n",
    "        class_weight=class_weight, callbacks=[early_stopping, model_checkpoint])\n"
   ]
  },
  {
   "cell_type": "code",
   "execution_count": 16,
   "metadata": {},
   "outputs": [
    {
     "data": {
      "image/png": "[encoded data removed]",
      "text/plain": [
       "<matplotlib.figure.Figure at 0x7fe620d72bd0>"
      ]
     },
     "metadata": {},
     "output_type": "display_data"
    }
   ],
   "source": [
    "acc = pd.DataFrame({'epoch': [ i + 1 for i in hist.epoch ],\n",
    "                    'training': hist.history['acc'],\n",
    "                    'validation': hist.history['val_acc'],\n",
    "                    'loss': hist.history['loss'],\n",
    "                   'val_loss': hist.history['val_loss']})\n",
    "ax = acc.ix[:,:].plot(x='epoch', figsize={5,8}, grid=True)\n",
    "ax.set_ylabel(\"accuracy\")\n",
    "ax.set_ylim([0.0,1.0]);"
   ]
  },
  {
   "cell_type": "code",
   "execution_count": 17,
   "metadata": {},
   "outputs": [
    {
     "name": "stdout",
     "output_type": "stream",
     "text": [
      "2345796/2345796 [==============================] - 235s   \n",
      "2345796/2345796 [==============================] - 235s   \n"
     ]
    }
   ],
   "source": [
    "bst_val_score = min(hist.history['val_loss'])\n",
    "\n",
    "########################################\n",
    "## make the submission\n",
    "########################################\n",
    "model.load_weights(bst_model_path)\n",
    "\n",
    "preds = model.predict([test_data_1, test_data_2, x_test.values], batch_size=5000, verbose=1)\n",
    "preds += model.predict([test_data_2, test_data_1, x_test.values], batch_size=5000, verbose=1)\n",
    "preds /= 2\n",
    "\n",
    "test_ids = np.arange(len(preds))\n",
    "submission = pd.DataFrame({'test_id':test_ids, 'is_duplicate':preds.ravel()})\n",
    "submission.to_csv('%.4f_'%(bst_val_score)+STAMP+'.csv', index=False)\n"
   ]
  },
  {
   "cell_type": "code",
   "execution_count": 20,
   "metadata": {},
   "outputs": [
    {
     "name": "stdout",
     "output_type": "stream",
     "text": [
      "0.1663_lstm_250_250_0.60_0.50\n"
     ]
    }
   ],
   "source": [
    "print '%.4f_'%(bst_val_score)+STAMP"
   ]
  },
  {
   "cell_type": "code",
   "execution_count": 21,
   "metadata": {},
   "outputs": [
    {
     "name": "stdout",
     "output_type": "stream",
     "text": [
      "Index([u'word_match', u'tfidf_word_match', u'sentiment', u'diff_len',\n",
      "       u'diff_len_char', u'diff_len_word', u'q1_freq', u'q2_freq',\n",
      "       u'cosine_distance', u'cityblock_distance', u'jaccard_distance',\n",
      "       u'canberra_distance', u'euclidean_distance', u'minkowski_distance',\n",
      "       u'braycurtis_distance', u'skew_q1vec', u'skew_q2vec', u'kur_q1vec',\n",
      "       u'kur_q2vec', u'fuzz_qratio', u'fuzz_WRatio', u'fuzz_partial_ratio',\n",
      "       u'fuzz_partial_token_set_ratio', u'fuzz_partial_token_sort_ratio',\n",
      "       u'fuzz_token_set_ratio', u'fuzz_token_sort_ratio', u'q1_q2_intersect',\n",
      "       u'q1_q2_wm_ratio'],\n",
      "      dtype='object')\n"
     ]
    }
   ],
   "source": [
    "print x_train.columns\n"
   ]
  },
  {
   "cell_type": "code",
   "execution_count": null,
   "metadata": {
    "collapsed": true
   },
   "outputs": [],
   "source": []
  }
 ],
 "metadata": {
  "kernelspec": {
   "display_name": "Python 2",
   "language": "python",
   "name": "python2"
  },
  "language_info": {
   "codemirror_mode": {
    "name": "ipython",
    "version": 2
   },
   "file_extension": ".py",
   "mimetype": "text/x-python",
   "name": "python",
   "nbconvert_exporter": "python",
   "pygments_lexer": "ipython2",
   "version": "2.7.6"
  }
 },
 "nbformat": 4,
 "nbformat_minor": 2
}
